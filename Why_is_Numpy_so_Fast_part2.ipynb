{
  "cells": [
    {
      "cell_type": "markdown",
      "id": "03b258f0",
      "metadata": {
        "id": "03b258f0"
      },
      "source": [
        "1. Numpy is fast bcs. it uses Compiled code behind the scenes\n",
        "\n",
        "We can see the benefit of this by trying Numba, a Python compiler and one of the simplest ways to speed up your code 100x"
      ]
    },
    {
      "cell_type": "code",
      "execution_count": null,
      "id": "5628c19a",
      "metadata": {
        "id": "5628c19a"
      },
      "outputs": [],
      "source": [
        "import numpy as np\n",
        "\n",
        "\n",
        "my_array = np.random.randint(low=0, high=1000, size=(1000000000))"
      ]
    },
    {
      "cell_type": "code",
      "execution_count": null,
      "id": "8df5133c",
      "metadata": {
        "id": "8df5133c",
        "outputId": "0de203c4-dfb4-4200-eb9b-97183d2535bd"
      },
      "outputs": [
        {
          "name": "stdout",
          "output_type": "stream",
          "text": [
            "class:  ndarray\n",
            "shape:  (1000000000,)\n",
            "strides:  (8,)\n",
            "itemsize:  8\n",
            "aligned:  True\n",
            "contiguous:  True\n",
            "fortran:  True\n",
            "data pointer: 0x280000000\n",
            "byteorder:  little\n",
            "byteswap:  False\n",
            "type: int64\n"
          ]
        }
      ],
      "source": [
        "np.info(my_array)"
      ]
    },
    {
      "cell_type": "markdown",
      "id": "992b94ac",
      "metadata": {
        "id": "992b94ac"
      },
      "source": [
        "The above array is about 8GB (1B int64 elements)\n",
        "\n",
        "### Let's see how long it takes Numpy to sum these"
      ]
    },
    {
      "cell_type": "code",
      "execution_count": null,
      "id": "72622aeb",
      "metadata": {
        "id": "72622aeb",
        "outputId": "c2a4a36d-caa1-4c91-e2b2-ea2e770fef5f"
      },
      "outputs": [
        {
          "name": "stdout",
          "output_type": "stream",
          "text": [
            "164 ms ± 4.52 ms per loop (mean ± std. dev. of 7 runs, 3 loops each)\n"
          ]
        }
      ],
      "source": [
        "%%timeit -n 3\n",
        "\n",
        "np.sum(my_array)"
      ]
    },
    {
      "cell_type": "code",
      "execution_count": null,
      "id": "7d8dc282",
      "metadata": {
        "id": "7d8dc282",
        "outputId": "d338da20-fbc9-4e07-f6ab-aa223f3e6670"
      },
      "outputs": [
        {
          "name": "stdout",
          "output_type": "stream",
          "text": [
            "1min 8s ± 889 ms per loop (mean ± std. dev. of 2 runs, 1 loop each)\n"
          ]
        }
      ],
      "source": [
        "%%timeit -r 2\n",
        "\n",
        "my_sum = 0\n",
        "\n",
        "for i in range(len(my_array)):\n",
        "    my_sum += my_array[i]"
      ]
    },
    {
      "cell_type": "markdown",
      "id": "a96e3b26",
      "metadata": {
        "id": "a96e3b26"
      },
      "source": [
        "Similarly, using the `sum()` function"
      ]
    },
    {
      "cell_type": "code",
      "execution_count": null,
      "id": "35499e9b",
      "metadata": {
        "id": "35499e9b",
        "outputId": "019515c9-4a0d-4f30-b606-7494e425eef8"
      },
      "outputs": [
        {
          "name": "stdout",
          "output_type": "stream",
          "text": [
            "33.5 s ± 24.1 ms per loop (mean ± std. dev. of 2 runs, 1 loop each)\n"
          ]
        }
      ],
      "source": [
        "%%timeit -r 2\n",
        "\n",
        "sum(my_array)"
      ]
    },
    {
      "cell_type": "markdown",
      "id": "83570e27",
      "metadata": {
        "id": "83570e27"
      },
      "source": [
        "### What do I do when I need to do something Numpy doesn't offer! Python is so slow :(\n",
        "\n",
        "\n",
        "Do not despair! We can manually do what Numpy is doing, to try matching its speed\n",
        "\n",
        "\n",
        "You may discount compilation, thinking: it's the same code, how much can that speed up. Well, let's see\n",
        "\n",
        "\n",
        "Below is literally the same loop code as above, just in its own function and with the @jit thing on top, called a **decorator**"
      ]
    },
    {
      "cell_type": "code",
      "execution_count": null,
      "id": "da7731ca",
      "metadata": {
        "id": "da7731ca"
      },
      "outputs": [],
      "source": [
        "from numba import jit\n",
        "\n",
        "@jit(nopython=True)\n",
        "def fast_sum(my_array):\n",
        "    my_sum = 0\n",
        "\n",
        "    for i in range(len(my_array)):\n",
        "        my_sum += my_array[i]\n",
        "\n",
        "    return my_sum"
      ]
    },
    {
      "cell_type": "code",
      "execution_count": null,
      "id": "d44933c3",
      "metadata": {
        "id": "d44933c3",
        "outputId": "dc5d1b68-5b40-4e4a-de49-0ef6124fe305"
      },
      "outputs": [
        {
          "name": "stdout",
          "output_type": "stream",
          "text": [
            "160 ms ± 1.78 ms per loop (mean ± std. dev. of 7 runs, 1 loop each)\n"
          ]
        }
      ],
      "source": [
        "%%timeit\n",
        "\n",
        "fast_sum(my_array)"
      ]
    },
    {
      "cell_type": "markdown",
      "id": "d881f51b",
      "metadata": {
        "id": "d881f51b"
      },
      "source": [
        "Not bad, eh? Literally went from 33 seconds to .4, ~100x faster, matching the speed of Python.\n",
        "\n",
        "Compilation is amazing, and so Numba is amazing! It's the second thing I recommend to people to speed up their Python, right after thinking about designing a better Algorithm or using a more suitable Data Structure\n",
        "\n",
        "### <font color=\"orange\"> But we can go further!</font>"
      ]
    },
    {
      "cell_type": "code",
      "execution_count": null,
      "id": "3d2f3a5e",
      "metadata": {
        "id": "3d2f3a5e"
      },
      "outputs": [],
      "source": [
        "from numba import jit\n",
        "\n",
        "@jit(nopython=True, fastmath=True)\n",
        "def faster_sum(my_array):\n",
        "    my_sum = 0\n",
        "\n",
        "    for i in range(len(my_array)):\n",
        "        my_sum += my_array[i]\n",
        "\n",
        "    return my_sum"
      ]
    },
    {
      "cell_type": "code",
      "execution_count": null,
      "id": "8e239ae5",
      "metadata": {
        "id": "8e239ae5",
        "outputId": "5f896c35-a932-433c-d4ea-e8a65741904f"
      },
      "outputs": [
        {
          "name": "stdout",
          "output_type": "stream",
          "text": [
            "159 ms ± 798 µs per loop (mean ± std. dev. of 7 runs, 1 loop each)\n"
          ]
        }
      ],
      "source": [
        "%%timeit\n",
        "\n",
        "faster_sum(my_array)"
      ]
    },
    {
      "cell_type": "code",
      "execution_count": null,
      "id": "4d209759",
      "metadata": {
        "scrolled": true,
        "id": "4d209759",
        "outputId": "2d3249dd-8e12-41db-9208-045ab428d3ba"
      },
      "outputs": [
        {
          "name": "stderr",
          "output_type": "stream",
          "text": [
            "/var/folders/21/rybqmdj15yz5lp1lppq1761m0000gn/T/ipykernel_31590/2542973380.py:3: NumbaWarning: \n",
            "Compilation is falling back to object mode WITH looplifting enabled because Function \"fasterer_sum\" failed type inference due to: No conversion from int64 to none for '$38return_value.1', defined at None\n",
            "\n",
            "File \"../../../var/folders/21/rybqmdj15yz5lp1lppq1761m0000gn/T/ipykernel_31590/2542973380.py\", line 10:\n",
            "<source missing, REPL/exec in use?>\n",
            "\n",
            "During: typing of assignment at /var/folders/21/rybqmdj15yz5lp1lppq1761m0000gn/T/ipykernel_31590/2542973380.py (10)\n",
            "\n",
            "File \"../../../var/folders/21/rybqmdj15yz5lp1lppq1761m0000gn/T/ipykernel_31590/2542973380.py\", line 10:\n",
            "<source missing, REPL/exec in use?>\n",
            "\n",
            "  @jit(void(int64[:]))\n",
            "/var/folders/21/rybqmdj15yz5lp1lppq1761m0000gn/T/ipykernel_31590/2542973380.py:3: NumbaWarning: \n",
            "Compilation is falling back to object mode WITHOUT looplifting enabled because Function \"fasterer_sum\" failed type inference due to: Cannot determine Numba type of <class 'numba.core.dispatcher.LiftedLoop'>\n",
            "\n",
            "File \"../../../var/folders/21/rybqmdj15yz5lp1lppq1761m0000gn/T/ipykernel_31590/2542973380.py\", line 7:\n",
            "<source missing, REPL/exec in use?>\n",
            "\n",
            "  @jit(void(int64[:]))\n",
            "/opt/homebrew/lib/python3.10/site-packages/numba/core/object_mode_passes.py:151: NumbaWarning: Function \"fasterer_sum\" was compiled in object mode without forceobj=True, but has lifted loops.\n",
            "\n",
            "File \"../../../var/folders/21/rybqmdj15yz5lp1lppq1761m0000gn/T/ipykernel_31590/2542973380.py\", line 5:\n",
            "<source missing, REPL/exec in use?>\n",
            "\n",
            "  warnings.warn(errors.NumbaWarning(warn_msg,\n",
            "/opt/homebrew/lib/python3.10/site-packages/numba/core/object_mode_passes.py:161: NumbaDeprecationWarning: \n",
            "Fall-back from the nopython compilation path to the object mode compilation path has been detected, this is deprecated behaviour.\n",
            "\n",
            "For more information visit https://numba.readthedocs.io/en/stable/reference/deprecation.html#deprecation-of-object-mode-fall-back-behaviour-when-using-jit\n",
            "\n",
            "File \"../../../var/folders/21/rybqmdj15yz5lp1lppq1761m0000gn/T/ipykernel_31590/2542973380.py\", line 5:\n",
            "<source missing, REPL/exec in use?>\n",
            "\n",
            "  warnings.warn(errors.NumbaDeprecationWarning(msg,\n"
          ]
        }
      ],
      "source": [
        "from numba import jit, void, int64\n",
        "\n",
        "@jit(void(int64[:]))\n",
        "def fasterer_sum(my_array):\n",
        "    my_sum = 0\n",
        "\n",
        "    for i in range(len(my_array)):\n",
        "        my_sum += my_array[i]\n",
        "\n",
        "    return my_sum"
      ]
    },
    {
      "cell_type": "code",
      "execution_count": null,
      "id": "45044c54",
      "metadata": {
        "id": "45044c54",
        "outputId": "e0e75db8-6eeb-44dc-dfe6-58f97765a2f8"
      },
      "outputs": [
        {
          "name": "stdout",
          "output_type": "stream",
          "text": [
            "160 ms ± 1.25 ms per loop (mean ± std. dev. of 7 runs, 1 loop each)\n"
          ]
        }
      ],
      "source": [
        "%%timeit\n",
        "\n",
        "fasterer_sum(my_array)"
      ]
    },
    {
      "cell_type": "code",
      "execution_count": null,
      "id": "5f97b478",
      "metadata": {
        "id": "5f97b478"
      },
      "outputs": [],
      "source": [
        "from numba import njit, prange # parallel range\n",
        "\n",
        "@njit(parallel=True)\n",
        "def parallel_fast_sum(my_array):\n",
        "    my_sum = 0\n",
        "\n",
        "    for i in prange(len(my_array)):\n",
        "        my_sum += my_array[i]\n",
        "\n",
        "    return my_sum"
      ]
    },
    {
      "cell_type": "code",
      "execution_count": null,
      "id": "ebc3e37f",
      "metadata": {
        "id": "ebc3e37f",
        "outputId": "0681539c-f5c6-4a7f-9c04-63592d540951"
      },
      "outputs": [
        {
          "name": "stderr",
          "output_type": "stream",
          "text": [
            "OMP: Info #276: omp_set_nested routine deprecated, please use omp_set_max_active_levels instead.\n"
          ]
        },
        {
          "name": "stdout",
          "output_type": "stream",
          "text": [
            "68.9 ms ± 2.64 ms per loop (mean ± std. dev. of 7 runs, 1 loop each)\n"
          ]
        }
      ],
      "source": [
        "%%timeit\n",
        "\n",
        "parallel_fast_sum(my_array)"
      ]
    },
    {
      "cell_type": "markdown",
      "id": "28aa96e4",
      "metadata": {
        "id": "28aa96e4"
      },
      "source": [
        "As we can see, not only can we match Numpy's performance, we can even exceed it without much effort!"
      ]
    },
    {
      "cell_type": "markdown",
      "id": "89f2d6fb",
      "metadata": {
        "id": "89f2d6fb"
      },
      "source": [
        "References:\n",
        "\n",
        "https://numba.readthedocs.io/en/stable/index.html\n",
        "\n",
        "https://numba.readthedocs.io/en/stable/user/parallel.html\n",
        "\n",
        "https://numba.readthedocs.io/en/stable/user/jit.html\n",
        "\n",
        "https://numpy.org/doc/stable/reference/simd/index.html?highlight=cpu"
      ]
    },
    {
      "cell_type": "markdown",
      "id": "c8d4f110",
      "metadata": {
        "id": "c8d4f110"
      },
      "source": [
        "## A more difficult example - the RBF Kernel"
      ]
    },
    {
      "cell_type": "code",
      "execution_count": null,
      "id": "9d6335e7",
      "metadata": {
        "id": "9d6335e7"
      },
      "outputs": [],
      "source": [
        "from sklearn import datasets\n",
        "\n",
        "iris_data = datasets.load_iris().data\n",
        "iris_label = datasets.load_iris().target"
      ]
    },
    {
      "cell_type": "code",
      "execution_count": null,
      "id": "8af23356",
      "metadata": {
        "id": "8af23356",
        "outputId": "bb356db1-7ba0-4424-9e3b-baa986761dfb"
      },
      "outputs": [
        {
          "data": {
            "text/plain": [
              "array([[5.1, 3.5, 1.4, 0.2],\n",
              "       [4.9, 3. , 1.4, 0.2],\n",
              "       [4.7, 3.2, 1.3, 0.2],\n",
              "       [4.6, 3.1, 1.5, 0.2],\n",
              "       [5. , 3.6, 1.4, 0.2]])"
            ]
          },
          "execution_count": 50,
          "metadata": {},
          "output_type": "execute_result"
        }
      ],
      "source": [
        "iris_data[:5,:]"
      ]
    },
    {
      "cell_type": "markdown",
      "id": "52548745",
      "metadata": {
        "id": "52548745"
      },
      "source": [
        "Creating H from the RBF Kernel"
      ]
    },
    {
      "cell_type": "code",
      "execution_count": null,
      "id": "bdcc4d80",
      "metadata": {
        "id": "bdcc4d80"
      },
      "outputs": [],
      "source": [
        "def generate_H_slow(data, spread):\n",
        "    # Double for-loop (slow) version\n",
        "    # data - label-free dataset\n",
        "    # spread - sigma, standard deviation\n",
        "    n = data.shape[0]\n",
        "    H = np.zeros((n,n))\n",
        "    for j in range(n):\n",
        "        W = data[j,:]\n",
        "        for i in range(n):\n",
        "            H[i, j] = np.exp(-((data[i,:]-W) @ (data[i,:]-\n",
        "                              W).T)/(2*spread**2))\n",
        "    return H"
      ]
    },
    {
      "cell_type": "code",
      "execution_count": null,
      "id": "00e055f6",
      "metadata": {
        "id": "00e055f6",
        "outputId": "64834991-94ed-4240-a64f-8f06a44be403"
      },
      "outputs": [
        {
          "name": "stdout",
          "output_type": "stream",
          "text": [
            "42.3 ms ± 141 µs per loop (mean ± std. dev. of 7 runs, 10 loops each)\n"
          ]
        }
      ],
      "source": [
        "%%timeit\n",
        "generate_H_slow(iris_data, 1)"
      ]
    },
    {
      "cell_type": "markdown",
      "id": "cb85f4ad",
      "metadata": {
        "id": "cb85f4ad"
      },
      "source": [
        "### The unoptimized version took 42ms for Iris. Not great, not terrible"
      ]
    },
    {
      "cell_type": "code",
      "execution_count": null,
      "id": "2e7bf6af",
      "metadata": {
        "id": "2e7bf6af"
      },
      "outputs": [],
      "source": [
        "def generate_H_fast(data, spread):\n",
        "    n = data.shape[0]\n",
        "    H = np.zeros((n,n))\n",
        "    for j in range(n):\n",
        "        # First, let's convert this to a Matrix subtraction\n",
        "        #   1. We subtract W from a different row of data in each step. Let's instead subtract W from all data\n",
        "        W = data[j,:]\n",
        "        # data - W should be equivalent to data.iloc[i,:]-W, for all i bcs. of Numpy broadcasting -https://numpy.org/doc/stable/reference/generated/numpy.broadcast.html#numpy.broadcast\n",
        "        H[:, j] = np.exp(-np.linalg.norm(data-W, ord=2, axis=1)**2/(2*spread**2))\n",
        "    return H"
      ]
    },
    {
      "cell_type": "code",
      "execution_count": null,
      "id": "7ddcb545",
      "metadata": {
        "id": "7ddcb545",
        "outputId": "c8a3b6bf-b9d1-4455-bee4-ed785f1e83f5"
      },
      "outputs": [
        {
          "name": "stdout",
          "output_type": "stream",
          "text": [
            "1.14 ms ± 1.72 µs per loop (mean ± std. dev. of 7 runs, 1,000 loops each)\n"
          ]
        }
      ],
      "source": [
        "%%timeit\n",
        "generate_H_fast(iris_data, 1)"
      ]
    },
    {
      "cell_type": "markdown",
      "id": "c8b8cfe9",
      "metadata": {
        "id": "c8b8cfe9"
      },
      "source": [
        "### Much better, 40x faster\n",
        "\n",
        "But it actually took quite a bit of work and some redesigning. Nobody has time for that!"
      ]
    },
    {
      "cell_type": "code",
      "execution_count": null,
      "id": "a532449c",
      "metadata": {
        "id": "a532449c"
      },
      "outputs": [],
      "source": [
        "@jit(nopython=True)\n",
        "def generate_H_numba(data, spread):\n",
        "    # Double for-loop (slow) version\n",
        "    # data - label-free dataset\n",
        "    # spread - sigma, standard deviation\n",
        "    n = data.shape[0]\n",
        "    H = np.zeros((n,n))\n",
        "    for j in range(n):\n",
        "        W = data[j,:]\n",
        "        for i in range(n):\n",
        "            H[i, j] = np.exp(-((data[i,:]-W) @ (data[i,:]-\n",
        "                              W).T)/(2*spread**2))\n",
        "    return H"
      ]
    },
    {
      "cell_type": "code",
      "execution_count": null,
      "id": "08cd9015",
      "metadata": {
        "id": "08cd9015",
        "outputId": "44a02cb5-a4ae-478b-d608-851e69b3b41d"
      },
      "outputs": [
        {
          "name": "stdout",
          "output_type": "stream",
          "text": [
            "1.91 ms ± 9.89 µs per loop (mean ± std. dev. of 7 runs, 1 loop each)\n"
          ]
        }
      ],
      "source": [
        "%%timeit\n",
        "generate_H_numba(iris_data, 1)"
      ]
    },
    {
      "cell_type": "markdown",
      "id": "447d0d5d",
      "metadata": {
        "id": "447d0d5d"
      },
      "source": [
        "About half as slow as Numpy, but still 20x better than the original!"
      ]
    },
    {
      "cell_type": "code",
      "execution_count": null,
      "id": "4a247396",
      "metadata": {
        "id": "4a247396"
      },
      "outputs": [],
      "source": []
    }
  ],
  "metadata": {
    "kernelspec": {
      "display_name": "Python 3 (ipykernel)",
      "language": "python",
      "name": "python3"
    },
    "language_info": {
      "codemirror_mode": {
        "name": "ipython",
        "version": 3
      },
      "file_extension": ".py",
      "mimetype": "text/x-python",
      "name": "python",
      "nbconvert_exporter": "python",
      "pygments_lexer": "ipython3",
      "version": "3.10.7"
    },
    "colab": {
      "provenance": []
    }
  },
  "nbformat": 4,
  "nbformat_minor": 5
}